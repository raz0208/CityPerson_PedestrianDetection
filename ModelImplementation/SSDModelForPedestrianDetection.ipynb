{
  "nbformat": 4,
  "nbformat_minor": 0,
  "metadata": {
    "colab": {
      "provenance": [],
      "authorship_tag": "ABX9TyNmg4wf65g9lWqY1v1PPtbE",
      "include_colab_link": true
    },
    "kernelspec": {
      "name": "python3",
      "display_name": "Python 3"
    },
    "language_info": {
      "name": "python"
    }
  },
  "cells": [
    {
      "cell_type": "markdown",
      "metadata": {
        "id": "view-in-github",
        "colab_type": "text"
      },
      "source": [
        "<a href=\"https://colab.research.google.com/github/raz0208/CityPerson_PedestrianDetection/blob/main/ModelImplementation/SSDModelForPedestrianDetection.ipynb\" target=\"_parent\"><img src=\"https://colab.research.google.com/assets/colab-badge.svg\" alt=\"Open In Colab\"/></a>"
      ]
    },
    {
      "cell_type": "code",
      "execution_count": 1,
      "metadata": {
        "id": "tSjPaDyi1V5N"
      },
      "outputs": [],
      "source": [
        "# Instal Required Libraries\n",
        "import os\n",
        "import json\n",
        "import numpy as np\n",
        "import pandas as pd\n",
        "from PIL import Image"
      ]
    },
    {
      "cell_type": "code",
      "source": [
        "def convert_tif_to_jpg(source_dir, target_dir):\n",
        "    os.makedirs(target_dir, exist_ok=True)\n",
        "    for root, _, files in os.walk(source_dir):\n",
        "        for file in files:\n",
        "            if file.endswith('.tif'):\n",
        "                tif_path = os.path.join(root, file)\n",
        "                img = Image.open(tif_path).convert('L')  # Convert to grayscale if not already\n",
        "                jpg_file = file.replace('.tif', '.jpg')\n",
        "                target_path = os.path.join(target_dir, jpg_file)\n",
        "                img.save(target_path, 'JPEG')\n",
        "                #print(f\"Converted {tif_path} to {target_path}\")"
      ],
      "metadata": {
        "id": "5N-_js3w14oB"
      },
      "execution_count": null,
      "outputs": []
    },
    {
      "cell_type": "code",
      "source": [
        "# Read the data from the source and store the result in new path\n",
        "source_folder = '/kaggle/input/city-persone/gtFinePanopticParts_trainval/gtFinePanopticParts/train'\n",
        "destination_folder = '/kaggle/working/CityPersonBboxPanoptic/train/images'\n",
        "convert_tif_to_jpg(source_folder, destination_folder)"
      ],
      "metadata": {
        "id": "Eae6ZQ8K8f6B"
      },
      "execution_count": null,
      "outputs": []
    },
    {
      "cell_type": "code",
      "source": [
        "# Read the data from the source and store the result in new path\n",
        "source_folder = '/kaggle/input/city-persone/gtFinePanopticParts_trainval/gtFinePanopticParts/val'\n",
        "destination_folder = '/kaggle/working/CityPersonBboxPanoptic/val/images'\n",
        "convert_tif_to_jpg(source_folder, destination_folder)"
      ],
      "metadata": {
        "id": "k1wjw66r8hT4"
      },
      "execution_count": null,
      "outputs": []
    },
    {
      "cell_type": "code",
      "source": [
        "def convert_json_to_txt(source_dir, target_dir):\n",
        "    os.makedirs(target_dir, exist_ok=True)\n",
        "    for root, _, files in os.walk(source_dir):\n",
        "        for file in files:\n",
        "            if file.endswith('.json'):\n",
        "                json_path = os.path.join(root, file)\n",
        "                with open(json_path, 'r') as f:\n",
        "                    data = json.load(f)\n",
        "\n",
        "                txt_file = file.replace('.json', '.txt')\n",
        "                target_path = os.path.join(target_dir, txt_file)\n",
        "\n",
        "                with open(target_path, 'w') as f:\n",
        "                    for obj in data.get('objects', []):\n",
        "                        label = obj.get('label', 'unknown')\n",
        "                        x, y, w, h = obj.get('bbox', [0, 0, 0, 0])\n",
        "                        f.write(f\"{label} {x} {y} {w} {h}\\n\")\n",
        "\n",
        "                #print(f\"Converted {json_path} to {target_path}\")"
      ],
      "metadata": {
        "id": "zf2OG9368jWI"
      },
      "execution_count": null,
      "outputs": []
    },
    {
      "cell_type": "code",
      "source": [
        "# Read the data from the source and store the result in new path\n",
        "source_folder = '/kaggle/input/city-persone/gtBbox_cityPersons_trainval/gtBboxCityPersons/train'\n",
        "destination_folder = '/kaggle/working/CityPersonBboxPanoptic/train/labels'\n",
        "convert_json_to_txt(source_folder, destination_folder)"
      ],
      "metadata": {
        "id": "THGdPHzc8lEg"
      },
      "execution_count": null,
      "outputs": []
    },
    {
      "cell_type": "code",
      "source": [
        "# Read the data from the source and store the result in new path\n",
        "source_folder = '/kaggle/input/city-persone/gtBbox_cityPersons_trainval/gtBboxCityPersons/val'\n",
        "destination_folder = '/kaggle/working/CityPersonBboxPanoptic/val/labels'\n",
        "convert_json_to_txt(source_folder, destination_folder)"
      ],
      "metadata": {
        "id": "Xn5uRHIU8mxh"
      },
      "execution_count": null,
      "outputs": []
    },
    {
      "cell_type": "code",
      "source": [
        "# Define label mapping for SSD\n",
        "class_mapping = {\n",
        "    \"pedestrian\": 0,\n",
        "    \"rider\": 1,\n",
        "    \"sitting person\": 2,\n",
        "    \"person group\": 3,\n",
        "    \"person (other)\": 4,\n",
        "}\n",
        "\n",
        "def convert_txt_to_ssd_format(source_dir, target_dir):\n",
        "    os.makedirs(target_dir, exist_ok=True)\n",
        "    for root, _, files in os.walk(source_dir):\n",
        "        for file in files:\n",
        "            if file.endswith('.txt'):\n",
        "                txt_path = os.path.join(root, file)\n",
        "                target_path = os.path.join(target_dir, file)\n",
        "\n",
        "                with open(txt_path, 'r') as f:\n",
        "                    lines = f.readlines()\n",
        "\n",
        "                with open(target_path, 'w') as f:\n",
        "                    for line in lines:\n",
        "                        parts = line.strip().split()\n",
        "                        if len(parts) == 7:\n",
        "                            label, x, y, w, h, img_width, img_height = parts\n",
        "                            label_id = class_mapping.get(label, -1)\n",
        "                            if label_id == -1:\n",
        "                                continue\n",
        "                            x, y, w, h, img_width, img_height = map(int, [x, y, w, h, img_width, img_height])\n",
        "                            x_min = x / img_width\n",
        "                            y_min = y / img_height\n",
        "                            x_max = (x + w) / img_width\n",
        "                            y_max = (y + h) / img_height\n",
        "                            f.write(f\"{label_id} {x_min:.6f} {y_min:.6f} {x_max:.6f} {y_max:.6f}\\n\")\n",
        "\n",
        "                #print(f\"Converted {txt_path} to SSD format at {target_path}\")"
      ],
      "metadata": {
        "id": "68L4HR44Mki5"
      },
      "execution_count": null,
      "outputs": []
    },
    {
      "cell_type": "code",
      "source": [
        "# Read the data from the source and store the result in new path\n",
        "source_folder = '/kaggle/working/CityPersonBboxPanoptic/train/labels'\n",
        "destination_folder = '/kaggle/working/CityPersonBboxSSDFormat/train/labels'\n",
        "convert_txt_to_ssd_format(source_folder, destination_folder)"
      ],
      "metadata": {
        "id": "azS9ifw1Mtkw"
      },
      "execution_count": null,
      "outputs": []
    },
    {
      "cell_type": "code",
      "source": [
        "# Read the data from the source and store the result in new path\n",
        "source_folder = '/kaggle/working/CityPersonBboxPanoptic/train/labels'\n",
        "destination_folder = '/kaggle/working/CityPersonBboxSSDFormat/val/labels'\n",
        "convert_txt_to_ssd_format(source_folder, destination_folder)"
      ],
      "metadata": {
        "id": "dro1AzCQMvYo"
      },
      "execution_count": null,
      "outputs": []
    }
  ]
}